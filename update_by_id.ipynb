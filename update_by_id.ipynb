{
 "cells": [
  {
   "cell_type": "code",
   "execution_count": 9,
   "metadata": {
    "collapsed": false
   },
   "outputs": [],
   "source": [
    "# import all the necessary modules\n",
    "from arcgis.gis import GIS\n",
    "from IPython.display import display\n",
    "import arcgis.features\n",
    "from getpass import getpass"
   ]
  },
  {
   "cell_type": "code",
   "execution_count": 10,
   "metadata": {
    "collapsed": false
   },
   "outputs": [
    {
     "name": "stdout",
     "output_type": "stream",
     "text": [
      "········\n"
     ]
    }
   ],
   "source": [
    "# login to an existing arcgis online organization\n",
    "gis = GIS(\"https://citygov.maps.arcgis.com/\", \"phammons_citygov\", getpass())"
   ]
  },
  {
   "cell_type": "code",
   "execution_count": 12,
   "metadata": {
    "collapsed": false
   },
   "outputs": [
    {
     "data": {
      "text/html": [
       "<div class=\"item_container\" style=\"height: auto; overflow: hidden; border: 1px solid #cfcfcf; border-radius: 2px; background: #f6fafa; line-height: 1.21429em; padding: 10px;\">\n",
       "                    <div class=\"item_left\" style=\"width: 210px; float: left;\">\n",
       "                       <a href='https://citygov.maps.arcgis.com//home/item.html?id=778a9a103aa9401cba64293a71f68bd1' target='_blank'>\n",
       "                        <img src='http://static.arcgis.com/images/desktopapp.png' class=\"itemThumbnail\">\n",
       "                       </a>\n",
       "                    </div>\n",
       "\n",
       "                    <div class=\"item_right\"     style=\"float: none; width: auto; overflow: hidden;\">\n",
       "                        <a href='https://citygov.maps.arcgis.com//home/item.html?id=778a9a103aa9401cba64293a71f68bd1' target='_blank'><b>VT House Districts 2002 - polygons</b>\n",
       "                        </a>\n",
       "                        <br/><img src='https://citygov.maps.arcgis.com//home/js/jsapi/esri/css/images/item_type_icons/featureshosted16.png' style=\"vertical-align:middle;\">Feature Layer Collection by phammons_citygov\n",
       "                        <br/>Last Modified: October 11, 2017\n",
       "                        <br/>0 comments, 1 views\n",
       "                    </div>\n",
       "                </div>\n",
       "                "
      ],
      "text/plain": [
       "<Item title:\"VT House Districts 2002 - polygons\" type:Feature Layer Collection owner:phammons_citygov>"
      ]
     },
     "execution_count": 12,
     "metadata": {},
     "output_type": "execute_result"
    }
   ],
   "source": [
    "boundaries = gis.content.get(\"778a9a103aa9401cba64293a71f68bd1\")\n",
    "boundaries"
   ]
  },
  {
   "cell_type": "code",
   "execution_count": 13,
   "metadata": {
    "collapsed": false
   },
   "outputs": [
    {
     "data": {
      "text/plain": [
       "True"
      ]
     },
     "execution_count": 13,
     "metadata": {},
     "output_type": "execute_result"
    }
   ],
   "source": [
    "boundaries.update(thumbnail=\"https://cdn.pixabay.com/photo/2016/03/31/19/21/ballot-1294935_960_720.png\")"
   ]
  },
  {
   "cell_type": "code",
   "execution_count": 14,
   "metadata": {
    "collapsed": false
   },
   "outputs": [
    {
     "data": {
      "text/html": [
       "<div class=\"item_container\" style=\"height: auto; overflow: hidden; border: 1px solid #cfcfcf; border-radius: 2px; background: #f6fafa; line-height: 1.21429em; padding: 10px;\">\n",
       "                    <div class=\"item_left\" style=\"width: 210px; float: left;\">\n",
       "                       <a href='https://citygov.maps.arcgis.com//home/item.html?id=778a9a103aa9401cba64293a71f68bd1' target='_blank'>\n",
       "                        <img src='data:image/png;base64,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' width='200' height='133' class=\"itemThumbnail\">\n",
       "                       </a>\n",
       "                    </div>\n",
       "\n",
       "                    <div class=\"item_right\"     style=\"float: none; width: auto; overflow: hidden;\">\n",
       "                        <a href='https://citygov.maps.arcgis.com//home/item.html?id=778a9a103aa9401cba64293a71f68bd1' target='_blank'><b>VT House Districts 2002 - polygons</b>\n",
       "                        </a>\n",
       "                        <br/><img src='https://citygov.maps.arcgis.com//home/js/jsapi/esri/css/images/item_type_icons/featureshosted16.png' style=\"vertical-align:middle;\">Feature Layer Collection by phammons_citygov\n",
       "                        <br/>Last Modified: November 14, 2017\n",
       "                        <br/>0 comments, 1 views\n",
       "                    </div>\n",
       "                </div>\n",
       "                "
      ],
      "text/plain": [
       "<Item title:\"VT House Districts 2002 - polygons\" type:Feature Layer Collection owner:phammons_citygov>"
      ]
     },
     "execution_count": 14,
     "metadata": {},
     "output_type": "execute_result"
    }
   ],
   "source": [
    "boundaries"
   ]
  }
 ],
 "metadata": {
  "anaconda-cloud": {},
  "kernelspec": {
   "display_name": "Python [conda root]",
   "language": "python",
   "name": "conda-root-py"
  },
  "language_info": {
   "codemirror_mode": {
    "name": "ipython",
    "version": 3
   },
   "file_extension": ".py",
   "mimetype": "text/x-python",
   "name": "python",
   "nbconvert_exporter": "python",
   "pygments_lexer": "ipython3",
   "version": "3.5.2"
  }
 },
 "nbformat": 4,
 "nbformat_minor": 1
}
