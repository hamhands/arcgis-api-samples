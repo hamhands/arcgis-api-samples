{
 "cells": [
  {
   "cell_type": "markdown",
   "metadata": {},
   "source": [
    "## Reset Users\n",
    "This script takes a set of input, deletes a defined amount of users, and recreates them with defined defaults. A good use case is when you have a bunch of users in your ArcGIS Online organization that you'd like to periodically nuke, particularly if they follow a predefined structure (e.g. workuser01, workuser02, workuser03)"
   ]
  },
  {
   "cell_type": "code",
   "execution_count": 1,
   "metadata": {},
   "outputs": [],
   "source": [
    "from arcgis.gis import GIS\n",
    "from getpass import getpass"
   ]
  },
  {
   "cell_type": "code",
   "execution_count": 2,
   "metadata": {},
   "outputs": [
    {
     "name": "stdout",
     "output_type": "stream",
     "text": [
      "Enter password: ········\n"
     ]
    }
   ],
   "source": [
    "gis = GIS('https://localgovne.maps.arcgis.com', 'patrick.hammons.tugis')"
   ]
  },
  {
   "cell_type": "markdown",
   "metadata": {},
   "source": [
    "### Search for all users in the org\n",
    "First, let's populate the users variable with all the users in the org"
   ]
  },
  {
   "cell_type": "code",
   "execution_count": 3,
   "metadata": {},
   "outputs": [
    {
     "data": {
      "text/plain": [
       "[<User username:adam.ziegler.workshop>,\n",
       " <User username:alex.brown.localgovne>,\n",
       " <User username:insightuser01>,\n",
       " <User username:insightuser02>,\n",
       " <User username:insightuser03>,\n",
       " <User username:insightuser04>,\n",
       " <User username:insightuser05>,\n",
       " <User username:insightuser06>,\n",
       " <User username:insightuser07>,\n",
       " <User username:insightuser08>,\n",
       " <User username:insightuser09>,\n",
       " <User username:insightuser10>,\n",
       " <User username:insightuser11>,\n",
       " <User username:insightuser12>,\n",
       " <User username:insightuser13>,\n",
       " <User username:insightuser14>,\n",
       " <User username:insightuser15>,\n",
       " <User username:insightuser16>,\n",
       " <User username:insightuser17>,\n",
       " <User username:insightuser18>,\n",
       " <User username:insightuser19>,\n",
       " <User username:insightuser20>,\n",
       " <User username:insightuser21>,\n",
       " <User username:insightuser22>,\n",
       " <User username:insightuser23>,\n",
       " <User username:insightuser24>,\n",
       " <User username:insightuser25>,\n",
       " <User username:insightuser26>,\n",
       " <User username:insightuser27>,\n",
       " <User username:insightuser28>,\n",
       " <User username:insightuser29>,\n",
       " <User username:insightuser30>,\n",
       " <User username:insightuser31>,\n",
       " <User username:insightuser32>,\n",
       " <User username:insightuser33>,\n",
       " <User username:insightuser34>,\n",
       " <User username:insightuser35>,\n",
       " <User username:insightuser36>,\n",
       " <User username:insightuser37>,\n",
       " <User username:insightuser38>,\n",
       " <User username:insightuser39>,\n",
       " <User username:insightuser40>,\n",
       " <User username:krithica.kantharaj.tugis>,\n",
       " <User username:mark.scott.localgovne>,\n",
       " <User username:mark.scott.tugis>,\n",
       " <User username:mscott_tugis>,\n",
       " <User username:patrick.hammons.tugis>,\n",
       " <User username:rachel.weeden.tugis>,\n",
       " <User username:tom.schwartzman.localgovne>,\n",
       " <User username:workuser01>,\n",
       " <User username:workuser02>,\n",
       " <User username:workuser03>,\n",
       " <User username:workuser04>,\n",
       " <User username:workuser05>,\n",
       " <User username:workuser06>,\n",
       " <User username:workuser07>,\n",
       " <User username:workuser08>,\n",
       " <User username:workuser09>,\n",
       " <User username:workuser10>,\n",
       " <User username:workuser11>,\n",
       " <User username:workuser12>,\n",
       " <User username:workuser13>,\n",
       " <User username:workuser14>,\n",
       " <User username:workuser20>,\n",
       " <User username:workuser21>,\n",
       " <User username:workuser22>,\n",
       " <User username:workuser23>,\n",
       " <User username:workuser24>,\n",
       " <User username:workuser25>,\n",
       " <User username:workuser26>,\n",
       " <User username:workuser27>,\n",
       " <User username:workuser28>,\n",
       " <User username:workuser29>,\n",
       " <User username:workuser30>,\n",
       " <User username:workuser31>,\n",
       " <User username:workuser32>,\n",
       " <User username:workuser33>,\n",
       " <User username:workuser34>,\n",
       " <User username:workuser35>,\n",
       " <User username:workuser36>,\n",
       " <User username:workuser37>,\n",
       " <User username:workuser38>,\n",
       " <User username:workuser39>,\n",
       " <User username:workuser40>,\n",
       " <User username:workuser43>]"
      ]
     },
     "execution_count": 3,
     "metadata": {},
     "output_type": "execute_result"
    }
   ],
   "source": [
    "users = gis.users.search()\n",
    "users"
   ]
  },
  {
   "cell_type": "markdown",
   "metadata": {},
   "source": [
    "### Get some user input\n",
    "Now we need some information from the user. Once we're done asking for input, we confirm that the user would like to continue with the script. The next block deletes a lot of stuff, so be sure to answer correctly!"
   ]
  },
  {
   "cell_type": "code",
   "execution_count": 5,
   "metadata": {},
   "outputs": [
    {
     "name": "stdout",
     "output_type": "stream",
     "text": [
      "How many users do you need reset?: 43\n",
      "What is your email?: phammons@esri.com\n",
      "What default password would you like to give the new users? ········\n",
      "This script will delete settings and content for 43 users. Are you sure you want to proceed (Y/N)?: y\n"
     ]
    }
   ],
   "source": [
    "seats = input(\"How many users do you need reset?: \")\n",
    "email = input(\"What is your email?: \")\n",
    "password = getpass(prompt=\"What default password would you like to give the new users? \")\n",
    "confirm = input(\"This script will delete settings and content for \" + seats + \" users. Are you sure you want to proceed (Y/N)?: \")"
   ]
  },
  {
   "cell_type": "markdown",
   "metadata": {},
   "source": [
    "### Delete + recreate users\n",
    "Now that we have more info, we can go about deleting the users and their associated content. Embrace the impermanence! "
   ]
  },
  {
   "cell_type": "code",
   "execution_count": 7,
   "metadata": {},
   "outputs": [
    {
     "name": "stdout",
     "output_type": "stream",
     "text": [
      "Deleting workuser01\n",
      "Deleted workuser01!\n",
      "Re-created workuser01!\n",
      "Deleting workuser02\n",
      "Deleted workuser02!\n",
      "Re-created workuser02!\n",
      "Deleting workuser03\n",
      "Deleted workuser03!\n",
      "Re-created workuser03!\n",
      "Deleting workuser04\n",
      "Deleted workuser04!\n",
      "Re-created workuser04!\n",
      "Deleting workuser05\n",
      "Deleted workuser05!\n",
      "Re-created workuser05!\n",
      "Deleting workuser06\n",
      "Deleted workuser06!\n",
      "Re-created workuser06!\n",
      "Deleting workuser07\n",
      "Deleted workuser07!\n",
      "Re-created workuser07!\n",
      "Deleting workuser08\n",
      "Deleted workuser08!\n",
      "Re-created workuser08!\n",
      "Deleting workuser09\n",
      "Deleted workuser09!\n",
      "Re-created workuser09!\n",
      "Deleting workuser10\n",
      "Deleted workuser10!\n",
      "Re-created workuser10!\n",
      "Deleting workuser11\n",
      "Deleted workuser11!\n",
      "Re-created workuser11!\n",
      "Deleting workuser12\n",
      "Deleted workuser12!\n",
      "Re-created workuser12!\n",
      "Deleting workuser13\n",
      "Deleted workuser13!\n",
      "Re-created workuser13!\n",
      "Deleting workuser14\n",
      "Deleted workuser14!\n",
      "Re-created workuser14!\n",
      "Deleting workuser20\n",
      "Deleted workuser20!\n",
      "Re-created workuser20!\n",
      "Deleting workuser21\n",
      "Deleted workuser21!\n",
      "Re-created workuser21!\n",
      "Deleting workuser22\n",
      "Deleted workuser22!\n",
      "Re-created workuser22!\n",
      "Deleting workuser23\n",
      "Deleted workuser23!\n",
      "Re-created workuser23!\n",
      "Deleting workuser24\n",
      "Deleted workuser24!\n",
      "Re-created workuser24!\n",
      "Deleting workuser25\n",
      "Deleted workuser25!\n",
      "Re-created workuser25!\n",
      "Deleting workuser26\n",
      "Deleted workuser26!\n",
      "Re-created workuser26!\n",
      "Deleting workuser27\n",
      "Deleted workuser27!\n",
      "Re-created workuser27!\n",
      "Deleting workuser28\n",
      "Deleted workuser28!\n",
      "Re-created workuser28!\n",
      "Deleting workuser29\n",
      "Deleted workuser29!\n",
      "Re-created workuser29!\n",
      "Deleting workuser30\n",
      "Deleted workuser30!\n",
      "Re-created workuser30!\n",
      "Deleting workuser31\n",
      "Deleted workuser31!\n",
      "Re-created workuser31!\n",
      "Deleting workuser32\n",
      "Deleted workuser32!\n",
      "Re-created workuser32!\n",
      "Deleting workuser33\n",
      "Deleted workuser33!\n",
      "Re-created workuser33!\n",
      "Deleting workuser34\n",
      "Deleted workuser34!\n",
      "Re-created workuser34!\n",
      "Deleting workuser35\n",
      "Deleted workuser35!\n",
      "Re-created workuser35!\n",
      "Deleting workuser36\n",
      "Deleted workuser36!\n",
      "Re-created workuser36!\n",
      "Deleting workuser37\n",
      "Deleted workuser37!\n",
      "Re-created workuser37!\n",
      "Deleting workuser38\n",
      "Deleted workuser38!\n",
      "Re-created workuser38!\n",
      "Deleting workuser39\n",
      "Deleted workuser39!\n",
      "Re-created workuser39!\n",
      "Deleting workuser40\n",
      "Deleted workuser40!\n",
      "Re-created workuser40!\n",
      "Deleting workuser43\n",
      "Deleted workuser43!\n",
      "Re-created workuser43!\n"
     ]
    }
   ],
   "source": [
    "if confirm.lower() == \"y\":\n",
    "    for user in users:\n",
    "        for n in range(int(seats) + 1):\n",
    "            # Confirm that username exists, delete all content associated with the user\n",
    "            if user.username == (\"workuser\" + str(n).zfill(2)):\n",
    "                items = user.items()\n",
    "                folders = user.folders\n",
    "                for item in items:  \n",
    "                    while item.protected:\n",
    "                        print(\"Removing delete protection\")\n",
    "                        item.protect(enable=False)\n",
    "                    try:\n",
    "                        print(\"Deleting \" + str(item))\n",
    "                        item.delete()\n",
    "                    except RuntimeError:\n",
    "                        print(item + \" no longer exists\")\n",
    "                        pass\n",
    "\n",
    "                for folder in folders:\n",
    "                    folder_items = user.items(folder=folder)\n",
    "                    for folder_item in folder_items:\n",
    "                        print(folder_item)\n",
    "                        while folder_item.protected:\n",
    "                            print(\"Removing delete protection\")\n",
    "                            folder_item.protect(enable=False)\n",
    "                        try:\n",
    "                            print(\"Deleting \", folder_item)\n",
    "                            folder_item.delete()\n",
    "                        except RuntimeError:\n",
    "                            print(folder_item + \" no longer exists\")\n",
    "                            pass                        \n",
    "                # Delete user\n",
    "                print(\"Deleting \" + user.username)\n",
    "                user.delete()\n",
    "                print(\"Deleted workuser\" + str(n).zfill(2) + \"!\")\n",
    "                \n",
    "                # Recreate user with user-provided info\n",
    "                gis.users.create(username=\"workuser\" + str(n).zfill(2),\n",
    "                                password=password,\n",
    "                                email=email,\n",
    "                                firstname =\"Student\" + str(n).zfill(2),\n",
    "                                lastname=\"Workshop\",\n",
    "                                role=\"org_publisher\",)\n",
    "                print(\"Re-created \" + user.username + \"!\")\n",
    "else:\n",
    "    print(\"Ok, I won't reset these users then!\")"
   ]
  },
  {
   "cell_type": "raw",
   "metadata": {
    "collapsed": true
   },
   "source": []
  }
 ],
 "metadata": {
  "anaconda-cloud": {},
  "kernelspec": {
   "display_name": "Python 3",
   "language": "python",
   "name": "python3"
  },
  "language_info": {
   "codemirror_mode": {
    "name": "ipython",
    "version": 3
   },
   "file_extension": ".py",
   "mimetype": "text/x-python",
   "name": "python",
   "nbconvert_exporter": "python",
   "pygments_lexer": "ipython3",
   "version": "3.6.4"
  }
 },
 "nbformat": 4,
 "nbformat_minor": 1
}
