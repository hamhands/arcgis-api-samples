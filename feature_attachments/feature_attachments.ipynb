{
 "cells": [
  {
   "cell_type": "code",
   "execution_count": 42,
   "metadata": {},
   "outputs": [],
   "source": [
    "from arcgis.gis import GIS\n",
    "import os"
   ]
  },
  {
   "cell_type": "code",
   "execution_count": 43,
   "metadata": {},
   "outputs": [
    {
     "name": "stdout",
     "output_type": "stream",
     "text": [
      "Enter password: ········\n"
     ]
    }
   ],
   "source": [
    "# CHANGE using your credentials and organization\n",
    "gis = GIS(\"http://citygov.maps.arcgis.com\", \"phammons_citygov\")"
   ]
  },
  {
   "cell_type": "code",
   "execution_count": 44,
   "metadata": {},
   "outputs": [],
   "source": [
    "# CHANGE to your item by providing itemID\n",
    "hc_msi = gis.content.get('5958a783a0e14481ad3e8a9f4a843e79')"
   ]
  },
  {
   "cell_type": "code",
   "execution_count": 47,
   "metadata": {},
   "outputs": [],
   "source": [
    "# store layer\n",
    "hc_msi_lyr = hc_msi.layers[0]\n",
    "\n",
    "# query all features, store output in features\n",
    "hc_msi_fc = hc_msi_lyr.query()\n",
    "features = hc_msi_fc.features"
   ]
  },
  {
   "cell_type": "code",
   "execution_count": 51,
   "metadata": {
    "scrolled": true
   },
   "outputs": [
    {
     "name": "stdout",
     "output_type": "stream",
     "text": [
      "Attaching ./1301_1.pdf...\n",
      "PDF for 1301_1 attached!\n",
      "Attaching ./1301_2.pdf...\n",
      "PDF for 1301_2 attached!\n",
      "Attaching ./1301_3.pdf...\n",
      "PDF for 1301_3 attached!\n",
      "PDF for 1301_4 does not exist on your local machine\n"
     ]
    }
   ],
   "source": [
    "# iterate through each record, store muncode for pdf match, store corresponding objectid for attachment\n",
    "for feature in enumerate(features):\n",
    "    attributes = features[feature[0]].as_dict['attributes']\n",
    "    mchsi_id = attributes['MunCode_MCHSI_ID']\n",
    "    oid = attributes['OBJECTID']\n",
    "    directory = \"./\" # CHANGE to specific location of PDF directory\n",
    "    pdf = directory + mchsi_id + '.pdf'\n",
    "    \n",
    "    # check if PDF is on local machine\n",
    "    if os.path.isfile(pdf):\n",
    "        # check if record has a PDF attachment, attach PDF if not\n",
    "        attachments = hc_msi_lyr.attachments.get_list(oid)\n",
    "        content = [x['contentType'] for x in attachments]\n",
    "        if 'application/pdf' in content:\n",
    "            print(mchsi_id + \" already has a PDF attached\")\n",
    "        else:           \n",
    "            print(\"Attaching \" + pdf + \"...\")\n",
    "            hc_msi_lyr.attachments.add(oid, pdf)\n",
    "            print(\"PDF for \" + mchsi_id + \" attached!\")\n",
    "    else:\n",
    "        print(\"PDF for \" + mchsi_id + \" does not exist on your local machine\")"
   ]
  },
  {
   "cell_type": "code",
   "execution_count": null,
   "metadata": {},
   "outputs": [],
   "source": []
  }
 ],
 "metadata": {
  "kernelspec": {
   "display_name": "Python 3",
   "language": "python",
   "name": "python3"
  },
  "language_info": {
   "codemirror_mode": {
    "name": "ipython",
    "version": 3
   },
   "file_extension": ".py",
   "mimetype": "text/x-python",
   "name": "python",
   "nbconvert_exporter": "python",
   "pygments_lexer": "ipython3",
   "version": "3.6.4"
  }
 },
 "nbformat": 4,
 "nbformat_minor": 2
}
