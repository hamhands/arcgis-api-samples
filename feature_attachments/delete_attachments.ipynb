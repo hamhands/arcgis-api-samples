{
 "cells": [
  {
   "cell_type": "code",
   "execution_count": 1,
   "metadata": {},
   "outputs": [],
   "source": [
    "from arcgis.gis import GIS\n",
    "import os"
   ]
  },
  {
   "cell_type": "code",
   "execution_count": 2,
   "metadata": {},
   "outputs": [
    {
     "name": "stdout",
     "output_type": "stream",
     "text": [
      "Enter password: ········\n"
     ]
    }
   ],
   "source": [
    "# CHANGE using your credentials and organization\n",
    "gis = GIS(\"http://citygov.maps.arcgis.com\", \"phammons_citygov\")"
   ]
  },
  {
   "cell_type": "code",
   "execution_count": 16,
   "metadata": {},
   "outputs": [],
   "source": [
    "# CHANGE to your item by providing itemID\n",
    "hc_msi = gis.content.get('5958a783a0e14481ad3e8a9f4a843e79')"
   ]
  },
  {
   "cell_type": "code",
   "execution_count": 17,
   "metadata": {},
   "outputs": [],
   "source": [
    "# store layer\n",
    "hc_msi_lyr = hc_msi.layers[0]\n",
    "\n",
    "# query all features, store output in features\n",
    "hc_msi_fc = hc_msi_lyr.query()\n",
    "features = hc_msi_fc.features"
   ]
  },
  {
   "cell_type": "code",
   "execution_count": 18,
   "metadata": {},
   "outputs": [
    {
     "name": "stdout",
     "output_type": "stream",
     "text": [
      "[{'id': 35, 'parentObjectId': 1, 'name': '1301_1.pdf', 'contentType': 'application/pdf', 'size': 317974, 'keywords': ''}]\n",
      "Deleting PDF for 1301_1...\n",
      "PDF deleted!\n",
      "[{'id': 35, 'parentObjectId': 1, 'name': '1301_1.pdf', 'contentType': 'application/pdf', 'size': 317974, 'keywords': ''}]\n",
      "[{'id': 11, 'parentObjectId': 2, 'name': 'IMG_2437.JPG', 'contentType': 'image/jpeg', 'size': 3125615, 'keywords': ''}, {'id': 36, 'parentObjectId': 2, 'name': '1301_2.pdf', 'contentType': 'application/pdf', 'size': 341888, 'keywords': ''}]\n",
      "[{'id': 11, 'parentObjectId': 2, 'name': 'IMG_2437.JPG', 'contentType': 'image/jpeg', 'size': 3125615, 'keywords': ''}, {'id': 36, 'parentObjectId': 2, 'name': '1301_2.pdf', 'contentType': 'application/pdf', 'size': 341888, 'keywords': ''}]\n",
      "[{'id': 11, 'parentObjectId': 2, 'name': 'IMG_2437.JPG', 'contentType': 'image/jpeg', 'size': 3125615, 'keywords': ''}, {'id': 36, 'parentObjectId': 2, 'name': '1301_2.pdf', 'contentType': 'application/pdf', 'size': 341888, 'keywords': ''}]\n",
      "Deleting PDF for 1301_2...\n",
      "PDF deleted!\n",
      "[{'id': 11, 'parentObjectId': 2, 'name': 'IMG_2437.JPG', 'contentType': 'image/jpeg', 'size': 3125615, 'keywords': ''}, {'id': 36, 'parentObjectId': 2, 'name': '1301_2.pdf', 'contentType': 'application/pdf', 'size': 341888, 'keywords': ''}]\n",
      "[{'id': 10, 'parentObjectId': 3, 'name': 'IMG_2437.JPG', 'contentType': 'image/jpeg', 'size': 3125615, 'keywords': ''}, {'id': 37, 'parentObjectId': 3, 'name': '1301_3.pdf', 'contentType': 'application/pdf', 'size': 669762, 'keywords': ''}]\n",
      "[{'id': 10, 'parentObjectId': 3, 'name': 'IMG_2437.JPG', 'contentType': 'image/jpeg', 'size': 3125615, 'keywords': ''}, {'id': 37, 'parentObjectId': 3, 'name': '1301_3.pdf', 'contentType': 'application/pdf', 'size': 669762, 'keywords': ''}]\n",
      "[{'id': 10, 'parentObjectId': 3, 'name': 'IMG_2437.JPG', 'contentType': 'image/jpeg', 'size': 3125615, 'keywords': ''}, {'id': 37, 'parentObjectId': 3, 'name': '1301_3.pdf', 'contentType': 'application/pdf', 'size': 669762, 'keywords': ''}]\n",
      "Deleting PDF for 1301_3...\n",
      "PDF deleted!\n",
      "[{'id': 10, 'parentObjectId': 3, 'name': 'IMG_2437.JPG', 'contentType': 'image/jpeg', 'size': 3125615, 'keywords': ''}, {'id': 37, 'parentObjectId': 3, 'name': '1301_3.pdf', 'contentType': 'application/pdf', 'size': 669762, 'keywords': ''}]\n"
     ]
    }
   ],
   "source": [
    "for feature in enumerate(features):\n",
    "    attributes = features[feature[0]].as_dict['attributes']\n",
    "    mchsi_id = attributes['MunCode_MCHSI_ID']\n",
    "    oid = attributes['OBJECTID']\n",
    "    attachments = hc_msi_lyr.attachments.get_list(oid)\n",
    "    \n",
    "    # check if record has a PDF attachment, delete PDF if so    \n",
    "    for x in attachments:\n",
    "        if x['contentType'] == 'application/pdf':\n",
    "            print(\"Deleting PDF for \" + mchsi_id + \"...\")\n",
    "            hc_msi_lyr.attachments.delete(oid, x['id'])\n",
    "            print(\"PDF deleted!\")\n",
    "        else:\n",
    "            pass"
   ]
  },
  {
   "cell_type": "code",
   "execution_count": null,
   "metadata": {},
   "outputs": [],
   "source": []
  }
 ],
 "metadata": {
  "kernelspec": {
   "display_name": "Python 3",
   "language": "python",
   "name": "python3"
  },
  "language_info": {
   "codemirror_mode": {
    "name": "ipython",
    "version": 3
   },
   "file_extension": ".py",
   "mimetype": "text/x-python",
   "name": "python",
   "nbconvert_exporter": "python",
   "pygments_lexer": "ipython3",
   "version": "3.6.4"
  }
 },
 "nbformat": 4,
 "nbformat_minor": 2
}
