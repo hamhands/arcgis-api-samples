{
 "cells": [
  {
   "cell_type": "code",
   "execution_count": 1,
   "metadata": {
    "collapsed": false
   },
   "outputs": [],
   "source": [
    "# import all the necessary modules\n",
    "from arcgis.gis import GIS\n",
    "from IPython.display import display\n",
    "import arcgis.features\n",
    "import csv"
   ]
  },
  {
   "cell_type": "code",
   "execution_count": 2,
   "metadata": {
    "collapsed": false
   },
   "outputs": [
    {
     "name": "stdout",
     "output_type": "stream",
     "text": [
      "Enter password: ········\n"
     ]
    }
   ],
   "source": [
    "# login to an existing arcgis online organization\n",
    "gis = GIS(\"https://citygov.maps.arcgis.com/\", \"phammons_citygov\")"
   ]
  },
  {
   "cell_type": "code",
   "execution_count": 3,
   "metadata": {
    "collapsed": false
   },
   "outputs": [],
   "source": [
    "# load itemIDs and thumbnail paths from csv into a dictionary\n",
    "items = []\n",
    "\n",
    "with open('items.csv', newline=\"\") as f:\n",
    "    reader = csv.reader(f, delimiter=',')\n",
    "    for row in reader:\n",
    "        items.append(row)"
   ]
  },
  {
   "cell_type": "code",
   "execution_count": 4,
   "metadata": {
    "collapsed": false
   },
   "outputs": [
    {
     "data": {
      "text/html": [
       "<div class=\"item_container\" style=\"height: auto; overflow: hidden; border: 1px solid #cfcfcf; border-radius: 2px; background: #f6fafa; line-height: 1.21429em; padding: 10px;\">\n",
       "                    <div class=\"item_left\" style=\"width: 210px; float: left;\">\n",
       "                       <a href='https://citygov.maps.arcgis.com//home/item.html?id=1c2d8d2ef54a45b9be1a1a7b3bf681ba' target='_blank'>\n",
       "                        <img src='data:image/png;base64,iVBORw0KGgoAAAANSUhEUgAAAMgAAACFCAIAAACR/CB7AAAACXBIWXMAAA7EAAAOxAGVKw4bAAACAElEQVR4nO3aQVLCMABA0dbx/leOCxCltkHUPwzOewsogUUWf5IGWMcYC/y1l0dPgP9JWCSERUJYJIRFQlgkhEVCWCSERUJYJIRFQlgkhEVCWCSERUJYJIRFQlgkhEVCWCSERUJYJIRFQlgkhEVCWCSERUJYJIRFQlgkhEVCWCSERUJYJIRFQlgkhEVCWCSERUJYJIRFQlgkhEVCWCSERUJYJIRFQlgkhEVCWCSERUJYJIRFQlgkhEVCWCSEda91WdZHz+EJvD56As9ivXoel7bGIybzBIT1Hevl4fPAspwK09YOYU1sVqntMBPCOrJeBTTOYx/Xi8JmhDU1Dl5eFWY33OFUeGxSy2UBO58RrV1bwtq1blPxJcOdbIVTX/M6sfXdYsXaNW6n8/kDdsMvhEVCWMcma9DmrbHYHTeERUJYR6a3WcM91Q1Ohb8wdq44EdZPua+aEtbE+Ph7zOZXQkndIqy594DGtizmhPVNkrqPUyEJYZEQFglhkRAWCWGREBYJYZEQFglhkRAWCWGREBYJYZEQFglhkRAWCWGREBYJYZEQFglhkRAWCWGREBYJYZEQFglhkRAWCWGREBYJYZEQFglhkRAWCWGREBYJYZEQFglhkRAWCWGREBYJYZEQFglhkRAWCWGREBYJYZEQFglhkRAWCWGREBYJYZEQFok331MmH4mmYPgAAAAASUVORK5CYII=' width='200' height='133' class=\"itemThumbnail\">\n",
       "                       </a>\n",
       "                    </div>\n",
       "\n",
       "                    <div class=\"item_right\"     style=\"float: none; width: auto; overflow: hidden;\">\n",
       "                        <a href='https://citygov.maps.arcgis.com//home/item.html?id=1c2d8d2ef54a45b9be1a1a7b3bf681ba' target='_blank'><b>jersey_devil_sightings</b>\n",
       "                        </a>\n",
       "                        <br/><img src='https://citygov.maps.arcgis.com//home/js/jsapi/esri/css/images/item_type_icons/featureshosted16.png' style=\"vertical-align:middle;\">Feature Layer Collection by phammons_citygov\n",
       "                        <br/>Last Modified: December 19, 2017\n",
       "                        <br/>0 comments, 18 views\n",
       "                    </div>\n",
       "                </div>\n",
       "                "
      ],
      "text/plain": [
       "<Item title:\"jersey_devil_sightings\" type:Feature Layer Collection owner:phammons_citygov>"
      ]
     },
     "metadata": {},
     "output_type": "display_data"
    },
    {
     "data": {
      "text/html": [
       "<div class=\"item_container\" style=\"height: auto; overflow: hidden; border: 1px solid #cfcfcf; border-radius: 2px; background: #f6fafa; line-height: 1.21429em; padding: 10px;\">\n",
       "                    <div class=\"item_left\" style=\"width: 210px; float: left;\">\n",
       "                       <a href='https://citygov.maps.arcgis.com//home/item.html?id=1c2d8d2ef54a45b9be1a1a7b3bf681ba' target='_blank'>\n",
       "                        <img src='data:image/png;base64,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' width='200' height='133' class=\"itemThumbnail\">\n",
       "                       </a>\n",
       "                    </div>\n",
       "\n",
       "                    <div class=\"item_right\"     style=\"float: none; width: auto; overflow: hidden;\">\n",
       "                        <a href='https://citygov.maps.arcgis.com//home/item.html?id=1c2d8d2ef54a45b9be1a1a7b3bf681ba' target='_blank'><b>jersey_devil_sightings</b>\n",
       "                        </a>\n",
       "                        <br/><img src='https://citygov.maps.arcgis.com//home/js/jsapi/esri/css/images/item_type_icons/featureshosted16.png' style=\"vertical-align:middle;\">Feature Layer Collection by phammons_citygov\n",
       "                        <br/>Last Modified: December 19, 2017\n",
       "                        <br/>0 comments, 18 views\n",
       "                    </div>\n",
       "                </div>\n",
       "                "
      ],
      "text/plain": [
       "<Item title:\"jersey_devil_sightings\" type:Feature Layer Collection owner:phammons_citygov>"
      ]
     },
     "metadata": {},
     "output_type": "display_data"
    },
    {
     "data": {
      "text/html": [
       "<div class=\"item_container\" style=\"height: auto; overflow: hidden; border: 1px solid #cfcfcf; border-radius: 2px; background: #f6fafa; line-height: 1.21429em; padding: 10px;\">\n",
       "                    <div class=\"item_left\" style=\"width: 210px; float: left;\">\n",
       "                       <a href='https://citygov.maps.arcgis.com//home/item.html?id=3ac3ffc2153f4f268e7f1d1b830e0b3c' target='_blank'>\n",
       "                        <img src='data:image/png;base64,iVBORw0KGgoAAAANSUhEUgAAAMgAAACFCAIAAACR/CB7AAAACXBIWXMAAA7EAAAOxAGVKw4bAAACAElEQVR4nO3aQVLCMABA0dbx/leOCxCltkHUPwzOewsogUUWf5IGWMcYC/y1l0dPgP9JWCSERUJYJIRFQlgkhEVCWCSERUJYJIRFQlgkhEVCWCSERUJYJIRFQlgkhEVCWCSERUJYJIRFQlgkhEVCWCSERUJYJIRFQlgkhEVCWCSERUJYJIRFQlgkhEVCWCSERUJYJIRFQlgkhEVCWCSERUJYJIRFQlgkhEVCWCSERUJYJIRFQlgkhEVCWCSEda91WdZHz+EJvD56As9ivXoel7bGIybzBIT1Hevl4fPAspwK09YOYU1sVqntMBPCOrJeBTTOYx/Xi8JmhDU1Dl5eFWY33OFUeGxSy2UBO58RrV1bwtq1blPxJcOdbIVTX/M6sfXdYsXaNW6n8/kDdsMvhEVCWMcma9DmrbHYHTeERUJYR6a3WcM91Q1Ohb8wdq44EdZPua+aEtbE+Ph7zOZXQkndIqy594DGtizmhPVNkrqPUyEJYZEQFglhkRAWCWGREBYJYZEQFglhkRAWCWGREBYJYZEQFglhkRAWCWGREBYJYZEQFglhkRAWCWGREBYJYZEQFglhkRAWCWGREBYJYZEQFglhkRAWCWGREBYJYZEQFglhkRAWCWGREBYJYZEQFglhkRAWCWGREBYJYZEQFglhkRAWCWGREBYJYZEQFok331MmH4mmYPgAAAAASUVORK5CYII=' width='200' height='133' class=\"itemThumbnail\">\n",
       "                       </a>\n",
       "                    </div>\n",
       "\n",
       "                    <div class=\"item_right\"     style=\"float: none; width: auto; overflow: hidden;\">\n",
       "                        <a href='https://citygov.maps.arcgis.com//home/item.html?id=3ac3ffc2153f4f268e7f1d1b830e0b3c' target='_blank'><b>Historically Haunted Properties</b>\n",
       "                        </a>\n",
       "                        <br/><img src='https://citygov.maps.arcgis.com//home/js/jsapi/esri/css/images/item_type_icons/featureshosted16.png' style=\"vertical-align:middle;\">Feature Layer Collection by phammons_citygov\n",
       "                        <br/>Last Modified: December 19, 2017\n",
       "                        <br/>0 comments, 14 views\n",
       "                    </div>\n",
       "                </div>\n",
       "                "
      ],
      "text/plain": [
       "<Item title:\"Historically Haunted Properties\" type:Feature Layer Collection owner:phammons_citygov>"
      ]
     },
     "metadata": {},
     "output_type": "display_data"
    },
    {
     "data": {
      "text/html": [
       "<div class=\"item_container\" style=\"height: auto; overflow: hidden; border: 1px solid #cfcfcf; border-radius: 2px; background: #f6fafa; line-height: 1.21429em; padding: 10px;\">\n",
       "                    <div class=\"item_left\" style=\"width: 210px; float: left;\">\n",
       "                       <a href='https://citygov.maps.arcgis.com//home/item.html?id=3ac3ffc2153f4f268e7f1d1b830e0b3c' target='_blank'>\n",
       "                        <img src='data:image/png;base64,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' width='200' height='133' class=\"itemThumbnail\">\n",
       "                       </a>\n",
       "                    </div>\n",
       "\n",
       "                    <div class=\"item_right\"     style=\"float: none; width: auto; overflow: hidden;\">\n",
       "                        <a href='https://citygov.maps.arcgis.com//home/item.html?id=3ac3ffc2153f4f268e7f1d1b830e0b3c' target='_blank'><b>Historically Haunted Properties</b>\n",
       "                        </a>\n",
       "                        <br/><img src='https://citygov.maps.arcgis.com//home/js/jsapi/esri/css/images/item_type_icons/featureshosted16.png' style=\"vertical-align:middle;\">Feature Layer Collection by phammons_citygov\n",
       "                        <br/>Last Modified: December 19, 2017\n",
       "                        <br/>0 comments, 14 views\n",
       "                    </div>\n",
       "                </div>\n",
       "                "
      ],
      "text/plain": [
       "<Item title:\"Historically Haunted Properties\" type:Feature Layer Collection owner:phammons_citygov>"
      ]
     },
     "metadata": {},
     "output_type": "display_data"
    },
    {
     "data": {
      "text/html": [
       "<div class=\"item_container\" style=\"height: auto; overflow: hidden; border: 1px solid #cfcfcf; border-radius: 2px; background: #f6fafa; line-height: 1.21429em; padding: 10px;\">\n",
       "                    <div class=\"item_left\" style=\"width: 210px; float: left;\">\n",
       "                       <a href='https://citygov.maps.arcgis.com//home/item.html?id=4f73aede5ca1490aad757afb1d135314' target='_blank'>\n",
       "                        <img src='data:image/png;base64,iVBORw0KGgoAAAANSUhEUgAAAMgAAACFCAIAAACR/CB7AAAACXBIWXMAAA7EAAAOxAGVKw4bAAACAElEQVR4nO3aQVLCMABA0dbx/leOCxCltkHUPwzOewsogUUWf5IGWMcYC/y1l0dPgP9JWCSERUJYJIRFQlgkhEVCWCSERUJYJIRFQlgkhEVCWCSERUJYJIRFQlgkhEVCWCSERUJYJIRFQlgkhEVCWCSERUJYJIRFQlgkhEVCWCSERUJYJIRFQlgkhEVCWCSERUJYJIRFQlgkhEVCWCSERUJYJIRFQlgkhEVCWCSERUJYJIRFQlgkhEVCWCSEda91WdZHz+EJvD56As9ivXoel7bGIybzBIT1Hevl4fPAspwK09YOYU1sVqntMBPCOrJeBTTOYx/Xi8JmhDU1Dl5eFWY33OFUeGxSy2UBO58RrV1bwtq1blPxJcOdbIVTX/M6sfXdYsXaNW6n8/kDdsMvhEVCWMcma9DmrbHYHTeERUJYR6a3WcM91Q1Ohb8wdq44EdZPua+aEtbE+Ph7zOZXQkndIqy594DGtizmhPVNkrqPUyEJYZEQFglhkRAWCWGREBYJYZEQFglhkRAWCWGREBYJYZEQFglhkRAWCWGREBYJYZEQFglhkRAWCWGREBYJYZEQFglhkRAWCWGREBYJYZEQFglhkRAWCWGREBYJYZEQFglhkRAWCWGREBYJYZEQFglhkRAWCWGREBYJYZEQFglhkRAWCWGREBYJYZEQFok331MmH4mmYPgAAAAASUVORK5CYII=' width='200' height='133' class=\"itemThumbnail\">\n",
       "                       </a>\n",
       "                    </div>\n",
       "\n",
       "                    <div class=\"item_right\"     style=\"float: none; width: auto; overflow: hidden;\">\n",
       "                        <a href='https://citygov.maps.arcgis.com//home/item.html?id=4f73aede5ca1490aad757afb1d135314' target='_blank'><b>Cemeteries</b>\n",
       "                        </a>\n",
       "                        <br/><img src='https://citygov.maps.arcgis.com//home/js/jsapi/esri/css/images/item_type_icons/featureshosted16.png' style=\"vertical-align:middle;\">Feature Layer Collection by phammons_citygov\n",
       "                        <br/>Last Modified: December 19, 2017\n",
       "                        <br/>0 comments, 18 views\n",
       "                    </div>\n",
       "                </div>\n",
       "                "
      ],
      "text/plain": [
       "<Item title:\"Cemeteries\" type:Feature Layer Collection owner:phammons_citygov>"
      ]
     },
     "metadata": {},
     "output_type": "display_data"
    },
    {
     "data": {
      "text/html": [
       "<div class=\"item_container\" style=\"height: auto; overflow: hidden; border: 1px solid #cfcfcf; border-radius: 2px; background: #f6fafa; line-height: 1.21429em; padding: 10px;\">\n",
       "                    <div class=\"item_left\" style=\"width: 210px; float: left;\">\n",
       "                       <a href='https://citygov.maps.arcgis.com//home/item.html?id=4f73aede5ca1490aad757afb1d135314' target='_blank'>\n",
       "                        <img src='data:image/png;base64,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' width='200' height='133' class=\"itemThumbnail\">\n",
       "                       </a>\n",
       "                    </div>\n",
       "\n",
       "                    <div class=\"item_right\"     style=\"float: none; width: auto; overflow: hidden;\">\n",
       "                        <a href='https://citygov.maps.arcgis.com//home/item.html?id=4f73aede5ca1490aad757afb1d135314' target='_blank'><b>Cemeteries</b>\n",
       "                        </a>\n",
       "                        <br/><img src='https://citygov.maps.arcgis.com//home/js/jsapi/esri/css/images/item_type_icons/featureshosted16.png' style=\"vertical-align:middle;\">Feature Layer Collection by phammons_citygov\n",
       "                        <br/>Last Modified: December 19, 2017\n",
       "                        <br/>0 comments, 18 views\n",
       "                    </div>\n",
       "                </div>\n",
       "                "
      ],
      "text/plain": [
       "<Item title:\"Cemeteries\" type:Feature Layer Collection owner:phammons_citygov>"
      ]
     },
     "metadata": {},
     "output_type": "display_data"
    }
   ],
   "source": [
    "# lookup layer name from item id, display thumbnail, update thumbnail, display new thumbnail\n",
    "for row in items[1:]:\n",
    "    item = gis.content.get(row[0])\n",
    "    display(item)\n",
    "    item.update(thumbnail=row[1])\n",
    "    display(item)"
   ]
  }
 ],
 "metadata": {
  "anaconda-cloud": {},
  "kernelspec": {
   "display_name": "Python [conda root]",
   "language": "python",
   "name": "conda-root-py"
  },
  "language_info": {
   "codemirror_mode": {
    "name": "ipython",
    "version": 3
   },
   "file_extension": ".py",
   "mimetype": "text/x-python",
   "name": "python",
   "nbconvert_exporter": "python",
   "pygments_lexer": "ipython3",
   "version": "3.5.2"
  }
 },
 "nbformat": 4,
 "nbformat_minor": 1
}
