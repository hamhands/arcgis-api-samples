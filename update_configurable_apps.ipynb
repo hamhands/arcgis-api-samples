{
 "cells": [
  {
   "cell_type": "code",
   "execution_count": 3,
   "metadata": {},
   "outputs": [],
   "source": [
    "from arcgis import GIS\n",
    "from arcgis.gis import GroupApplication\n",
    "from IPython.display import display"
   ]
  },
  {
   "cell_type": "code",
   "execution_count": 4,
   "metadata": {},
   "outputs": [
    {
     "name": "stdout",
     "output_type": "stream",
     "text": [
      "Enter password: ········\n"
     ]
    }
   ],
   "source": [
    "gis = GIS(\"http://citygov.maps.arcgis.com\", \"phammons_citygov\")"
   ]
  },
  {
   "cell_type": "code",
   "execution_count": 5,
   "metadata": {},
   "outputs": [],
   "source": [
    "wireless = gis.content.get('e14523c2ac0947efb64766cc38bc960d')"
   ]
  },
  {
   "cell_type": "code",
   "execution_count": 7,
   "metadata": {},
   "outputs": [
    {
     "data": {
      "text/plain": [
       "{'folderId': 'bf3d59275741415ab731b9eec19486fa',\n",
       " 'source': '43a4a0dbf9914f93bf0657f7839fa655',\n",
       " 'values': {'applicationFavicon': '/images/favicon.ico',\n",
       "  'applicationIcon': '',\n",
       "  'applicationName': 'Test this',\n",
       "  'basemapGroup': '',\n",
       "  'bodyBackgroundColor': '#fff',\n",
       "  'bodyTextColor': '#515151',\n",
       "  'buttonBackgroundColor': '#fff',\n",
       "  'buttonTextColor': '#f26e1f',\n",
       "  'commentField': 'COMMENTS',\n",
       "  'commentFormAttachmentSectionLabel': 'Attachments',\n",
       "  'commentsTabText': 'Comments',\n",
       "  'defaultDetailsTab': 'Info',\n",
       "  'enableFilter': False,\n",
       "  'group': '5e147eefba52474cae760ff8963269e0',\n",
       "  'headerTextColor': '#fff',\n",
       "  'helpDialogContent': \"<p>Welcome to Crowdsource Manager! </p> <p>Use this application to review and update reports. To get started, choose a category and then choose a report from the table or map.</p> <p>The details of that report will load in the panel in the lower left corner of the screen. From this panel, you can also review images, charts, and other information associated with the selected report. Update the report details by clicking the pencil icon, or hold down the CTRL key while clicking multiple reports to open the batch editor.</p> <p>View the location of the report using the map in the lower right corner of the application.</p><p>Reports can be filtered by time or field values. If time filtering is enabled for your reports, a time slider will appear below the table. Drag the time slider handle(s) to show only reports from a specific time span in the map and table. If filtering based on field values is enabled for your reports, a filter icon will appear in the table header next to the name of the fields that can be used to filter the reports. Click the icon and specify which reports you'd like to see in the table and map.</p>\",\n",
       "  'helpDialogTitle': 'Help',\n",
       "  'mediaTabText': 'Media',\n",
       "  'popupTabText': 'Info',\n",
       "  'selectFeatureMessage': 'Choose a report from the table or map.',\n",
       "  'showBaseMapGallery': False,\n",
       "  'showHelpIcon': False,\n",
       "  'showLegend': False,\n",
       "  'showNonEditableLayers': False,\n",
       "  'showPopupForNonEditableLayers': False,\n",
       "  'theme': '#f26e1f',\n",
       "  'usePopupConfigurationForComment': False,\n",
       "  'webMapInfoAccessInformation': False,\n",
       "  'webMapInfoAvgRating': False,\n",
       "  'webMapInfoCreated': False,\n",
       "  'webMapInfoDescription': True,\n",
       "  'webMapInfoLicenseInfo': False,\n",
       "  'webMapInfoModified': False,\n",
       "  'webMapInfoNumViews': False,\n",
       "  'webMapInfoOwner': True,\n",
       "  'webMapInfoSnippet': False,\n",
       "  'webMapInfoTags': False,\n",
       "  'zoomLevel': 12}}"
      ]
     },
     "execution_count": 7,
     "metadata": {},
     "output_type": "execute_result"
    }
   ],
   "source": [
    "data = wireless.get_data()\n",
    "data"
   ]
  },
  {
   "cell_type": "code",
   "execution_count": 8,
   "metadata": {},
   "outputs": [
    {
     "data": {
      "text/plain": [
       "'Test this'"
      ]
     },
     "execution_count": 8,
     "metadata": {},
     "output_type": "execute_result"
    }
   ],
   "source": [
    "data['values']['applicationName']"
   ]
  },
  {
   "cell_type": "code",
   "execution_count": 9,
   "metadata": {},
   "outputs": [],
   "source": [
    "data['values']['applicationName'] = 'Ok I tested this'"
   ]
  },
  {
   "cell_type": "code",
   "execution_count": 10,
   "metadata": {},
   "outputs": [
    {
     "data": {
      "text/plain": [
       "'Ok I tested this'"
      ]
     },
     "execution_count": 10,
     "metadata": {},
     "output_type": "execute_result"
    }
   ],
   "source": [
    "data['values']['applicationName']"
   ]
  }
 ],
 "metadata": {
  "kernelspec": {
   "display_name": "Python 3",
   "language": "python",
   "name": "python3"
  },
  "language_info": {
   "codemirror_mode": {
    "name": "ipython",
    "version": 3
   },
   "file_extension": ".py",
   "mimetype": "text/x-python",
   "name": "python",
   "nbconvert_exporter": "python",
   "pygments_lexer": "ipython3",
   "version": "3.6.4"
  }
 },
 "nbformat": 4,
 "nbformat_minor": 2
}
